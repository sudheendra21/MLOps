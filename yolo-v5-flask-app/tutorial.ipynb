{
 "cells": [
  {
   "cell_type": "markdown",
   "metadata": {
    "id": "4JnkELT0cIJg"
   },
   "source": [
    "# 1. Detect\n",
    "\n",
    "`detect.py` runs YOLOv5 inference on a variety of sources, downloading models automatically from the [latest YOLOv5 release](https://github.com/ultralytics/yolov5/releases), and saving results to `runs/detect`. Example inference sources are:\n",
    "\n",
    "```shell\n",
    "python detect.py --source 0  # webcam\n",
    "                          img.jpg  # image\n",
    "                          vid.mp4  # video\n",
    "                          screen  # screenshot\n",
    "                          path/  # directory\n",
    "                         'path/*.jpg'  # glob\n",
    "                         'https://youtu.be/LNwODJXcvt4'  # YouTube\n",
    "                         'rtsp://example.com/media.mp4'  # RTSP, RTMP, HTTP stream\n",
    "```"
   ]
  },
  {
   "cell_type": "code",
   "execution_count": 7,
   "metadata": {
    "colab": {
     "base_uri": "https://localhost:8080/"
    },
    "id": "zR9ZbuQCH7FX",
    "outputId": "284ef04b-1596-412f-88f6-948828dd2b49"
   },
   "outputs": [
    {
     "name": "stdout",
     "output_type": "stream",
     "text": [
      "WARNING \u001b[31m\u001b[1mrequirements:\u001b[0m C:\\Users\\prart\\MLOPS\\mymodel\\requirements.txt not found, check failed.\n",
      "\u001b[31m\u001b[1mrequirements:\u001b[0m Ultralytics requirements ['pafy', 'youtube_dl==2020.12.2'] not found, attempting AutoUpdate...\n",
      "Collecting pafy\n",
      "\n",
      "  Downloading pafy-0.5.5-py2.py3-none-any.whl.metadata (10 kB)\n",
      "\n",
      "Collecting youtube_dl==2020.12.2\n",
      "\n",
      "  Downloading youtube_dl-2020.12.2-py2.py3-none-any.whl.metadata (1.5 kB)\n",
      "\n",
      "Downloading youtube_dl-2020.12.2-py2.py3-none-any.whl (1.8 MB)\n",
      "\n",
      "   ---------------------------------------- 0.0/1.8 MB ? eta -:--:--\n",
      "   ---------------------- ----------------- 1.0/1.8 MB 7.2 MB/s eta 0:00:01\n",
      "   ---------------------------------------- 1.8/1.8 MB 7.8 MB/s eta 0:00:00\n",
      "\n",
      "Downloading pafy-0.5.5-py2.py3-none-any.whl (35 kB)\n",
      "\n",
      "Installing collected packages: youtube_dl, pafy\n",
      "\n",
      "\n",
      "   ---------------------------------------- 0/2 [youtube_dl]\n",
      "   ---------------------------------------- 0/2 [youtube_dl]\n",
      "   ---------------------------------------- 0/2 [youtube_dl]\n",
      "   ---------------------------------------- 0/2 [youtube_dl]\n",
      "   ---------------------------------------- 0/2 [youtube_dl]\n",
      "   ---------------------------------------- 0/2 [youtube_dl]\n",
      "   ---------------------------------------- 0/2 [youtube_dl]\n",
      "   ---------------------------------------- 0/2 [youtube_dl]\n",
      "   ---------------------------------------- 0/2 [youtube_dl]\n",
      "   ---------------------------------------- 0/2 [youtube_dl]\n",
      "   ---------------------------------------- 0/2 [youtube_dl]\n",
      "   ---------------------------------------- 0/2 [youtube_dl]\n",
      "   ---------------------------------------- 0/2 [youtube_dl]\n",
      "   ---------------------------------------- 2/2 [pafy]\n",
      "\n",
      "\n",
      "Successfully installed pafy-0.5.5 youtube_dl-2020.12.2\n",
      "\n",
      "\n",
      "\u001b[31m\u001b[1mrequirements:\u001b[0m AutoUpdate success  4.4s\n",
      "WARNING \u001b[31m\u001b[1mrequirements:\u001b[0m \u001b[1mRestart runtime or rerun command for updates to take effect\u001b[0m\n",
      "\n"
     ]
    },
    {
     "name": "stderr",
     "output_type": "stream",
     "text": [
      "\u001b[34m\u001b[1mdetect: \u001b[0mweights=['yolov5s.pt'], source=https://youtu.be/LNwODJXcvt4, data=data\\coco128.yaml, imgsz=[640, 640], conf_thres=0.25, iou_thres=0.45, max_det=1000, device=, view_img=False, save_txt=False, save_format=0, save_csv=False, save_conf=False, save_crop=False, nosave=False, classes=None, agnostic_nms=False, augment=False, visualize=False, update=False, project=runs\\detect, name=exp, exist_ok=False, line_thickness=3, hide_labels=False, hide_conf=False, half=False, dnn=False, vid_stride=1\n",
      "YOLOv5  2025-6-18 Python-3.12.11 torch-2.7.1+cpu CPU\n",
      "\n",
      "Fusing layers... \n",
      "YOLOv5s summary: 213 layers, 7225885 parameters, 0 gradients, 16.4 GFLOPs\n",
      "ERROR: LNwODJXcvt4: YouTube said: Unable to extract video data\n",
      "Traceback (most recent call last):\n",
      "  File \"c:\\Users\\prart\\anaconda3\\envs\\Ultralytics\\Lib\\site-packages\\youtube_dl\\YoutubeDL.py\", line 803, in wrapper\n",
      "    return func(self, *args, **kwargs)\n",
      "           ^^^^^^^^^^^^^^^^^^^^^^^^^^^\n",
      "  File \"c:\\Users\\prart\\anaconda3\\envs\\Ultralytics\\Lib\\site-packages\\youtube_dl\\YoutubeDL.py\", line 824, in __extract_info\n",
      "    ie_result = ie.extract(url)\n",
      "                ^^^^^^^^^^^^^^^\n",
      "  File \"c:\\Users\\prart\\anaconda3\\envs\\Ultralytics\\Lib\\site-packages\\youtube_dl\\extractor\\common.py\", line 532, in extract\n",
      "    ie_result = self._real_extract(url)\n",
      "                ^^^^^^^^^^^^^^^^^^^^^^^\n",
      "  File \"c:\\Users\\prart\\anaconda3\\envs\\Ultralytics\\Lib\\site-packages\\youtube_dl\\extractor\\youtube.py\", line 1719, in _real_extract\n",
      "    raise ExtractorError(\n",
      "youtube_dl.utils.ExtractorError: LNwODJXcvt4: YouTube said: Unable to extract video data\n",
      "\n",
      "During handling of the above exception, another exception occurred:\n",
      "\n",
      "Traceback (most recent call last):\n",
      "  File \"c:\\Users\\prart\\anaconda3\\envs\\Ultralytics\\Lib\\site-packages\\pafy\\backend_youtube_dl.py\", line 40, in _fetch_basic\n",
      "    self._ydl_info = ydl.extract_info(self.videoid, download=False)\n",
      "                     ^^^^^^^^^^^^^^^^^^^^^^^^^^^^^^^^^^^^^^^^^^^^^^\n",
      "  File \"c:\\Users\\prart\\anaconda3\\envs\\Ultralytics\\Lib\\site-packages\\youtube_dl\\YoutubeDL.py\", line 796, in extract_info\n",
      "    return self.__extract_info(url, ie, download, extra_info, process)\n",
      "           ^^^^^^^^^^^^^^^^^^^^^^^^^^^^^^^^^^^^^^^^^^^^^^^^^^^^^^^^^^^\n",
      "  File \"c:\\Users\\prart\\anaconda3\\envs\\Ultralytics\\Lib\\site-packages\\youtube_dl\\YoutubeDL.py\", line 812, in wrapper\n",
      "    self.report_error(compat_str(e), e.format_traceback())\n",
      "  File \"c:\\Users\\prart\\anaconda3\\envs\\Ultralytics\\Lib\\site-packages\\youtube_dl\\YoutubeDL.py\", line 625, in report_error\n",
      "    self.trouble(error_message, tb)\n",
      "  File \"c:\\Users\\prart\\anaconda3\\envs\\Ultralytics\\Lib\\site-packages\\youtube_dl\\YoutubeDL.py\", line 595, in trouble\n",
      "    raise DownloadError(message, exc_info)\n",
      "youtube_dl.utils.DownloadError: ERROR: LNwODJXcvt4: YouTube said: Unable to extract video data\n",
      "\n",
      "During handling of the above exception, another exception occurred:\n",
      "\n",
      "Traceback (most recent call last):\n",
      "  File \"c:\\Users\\prart\\MLOPS\\mymodel\\detect.py\", line 438, in <module>\n",
      "    main(opt)\n",
      "  File \"c:\\Users\\prart\\MLOPS\\mymodel\\detect.py\", line 433, in main\n",
      "    run(**vars(opt))\n",
      "  File \"c:\\Users\\prart\\anaconda3\\envs\\Ultralytics\\Lib\\site-packages\\torch\\utils\\_contextlib.py\", line 116, in decorate_context\n",
      "    return func(*args, **kwargs)\n",
      "           ^^^^^^^^^^^^^^^^^^^^^\n",
      "  File \"c:\\Users\\prart\\MLOPS\\mymodel\\detect.py\", line 174, in run\n",
      "    dataset = LoadStreams(source, img_size=imgsz, stride=stride, auto=pt, vid_stride=vid_stride)\n",
      "              ^^^^^^^^^^^^^^^^^^^^^^^^^^^^^^^^^^^^^^^^^^^^^^^^^^^^^^^^^^^^^^^^^^^^^^^^^^^^^^^^^^\n",
      "  File \"c:\\Users\\prart\\MLOPS\\mymodel\\utils\\dataloaders.py\", line 457, in __init__\n",
      "    s = pafy.new(s).getbest(preftype=\"mp4\").url  # YouTube URL\n",
      "        ^^^^^^^^^^^\n",
      "  File \"c:\\Users\\prart\\anaconda3\\envs\\Ultralytics\\Lib\\site-packages\\pafy\\pafy.py\", line 124, in new\n",
      "    return Pafy(url, basic, gdata, size, callback, ydl_opts=ydl_opts)\n",
      "           ^^^^^^^^^^^^^^^^^^^^^^^^^^^^^^^^^^^^^^^^^^^^^^^^^^^^^^^^^^\n",
      "  File \"c:\\Users\\prart\\anaconda3\\envs\\Ultralytics\\Lib\\site-packages\\pafy\\backend_youtube_dl.py\", line 31, in __init__\n",
      "    super(YtdlPafy, self).__init__(*args, **kwargs)\n",
      "  File \"c:\\Users\\prart\\anaconda3\\envs\\Ultralytics\\Lib\\site-packages\\pafy\\backend_shared.py\", line 97, in __init__\n",
      "    self._fetch_basic()\n",
      "  File \"c:\\Users\\prart\\anaconda3\\envs\\Ultralytics\\Lib\\site-packages\\pafy\\backend_youtube_dl.py\", line 43, in _fetch_basic\n",
      "    raise IOError(str(e).replace('YouTube said', 'Youtube says'))\n",
      "OSError: ERROR: LNwODJXcvt4: Youtube says: Unable to extract video data\n"
     ]
    }
   ],
   "source": [
    "!python detect.py --weights yolov5s.pt --img 640 --conf 0.25 --source https://youtu.be/LNwODJXcvt4\n",
    "# display.Image(filename='runs/detect/exp4/TEST.jpg', width=600)"
   ]
  },
  {
   "cell_type": "code",
   "execution_count": null,
   "metadata": {},
   "outputs": [],
   "source": []
  }
 ],
 "metadata": {
  "accelerator": "GPU",
  "colab": {
   "name": "YOLOv5 Tutorial",
   "provenance": []
  },
  "kernelspec": {
   "display_name": "Ultralytics",
   "language": "python",
   "name": "python3"
  },
  "language_info": {
   "codemirror_mode": {
    "name": "ipython",
    "version": 3
   },
   "file_extension": ".py",
   "mimetype": "text/x-python",
   "name": "python",
   "nbconvert_exporter": "python",
   "pygments_lexer": "ipython3",
   "version": "3.12.11"
  }
 },
 "nbformat": 4,
 "nbformat_minor": 0
}
